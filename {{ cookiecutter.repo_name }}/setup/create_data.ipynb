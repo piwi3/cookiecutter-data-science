{
 "cells": [
  {
   "cell_type": "code",
   "execution_count": 4,
   "metadata": {},
   "outputs": [],
   "source": [
    "from pathlib import Path\n",
    "import shutil"
   ]
  },
  {
   "attachments": {},
   "cell_type": "markdown",
   "metadata": {},
   "source": [
    "### Download the dataset"
   ]
  },
  {
   "cell_type": "code",
   "execution_count": 8,
   "metadata": {},
   "outputs": [
    {
     "name": "stdout",
     "output_type": "stream",
     "text": [
      "--2023-04-12 17:28:56--  https://archive.ics.uci.edu/ml/machine-learning-databases/00321/LD2011_2014.txt.zip\n",
      "Auflösen des Hostnamens archive.ics.uci.edu (archive.ics.uci.edu)… 128.195.10.252\n",
      "Verbindungsaufbau zu archive.ics.uci.edu (archive.ics.uci.edu)|128.195.10.252|:443 … verbunden.\n",
      "HTTP-Anforderung gesendet, auf Antwort wird gewartet … 200 OK\n",
      "Länge: 261335609 (249M) [application/x-httpd-php]\n",
      "Wird in »LD2011_2014.txt.zip« gespeichert.\n",
      "\n",
      "LD2011_2014.txt.zip 100%[===================>] 249,23M  5,62MB/s    in 57s     \n",
      "\n",
      "2023-04-12 17:29:53 (4,36 MB/s) - »LD2011_2014.txt.zip« gespeichert [261335609/261335609]\n",
      "\n",
      "Archive:  LD2011_2014.txt.zip\n",
      "  inflating: LD2011_2014.txt         \n",
      "   creating: __MACOSX/\n",
      "  inflating: __MACOSX/._LD2011_2014.txt  \n"
     ]
    }
   ],
   "source": [
    "!wget https://archive.ics.uci.edu/ml/machine-learning-databases/00321/LD2011_2014.txt.zip\n",
    "!unzip LD2011_2014.txt.zip"
   ]
  },
  {
   "cell_type": "markdown",
   "metadata": {},
   "source": [
    "### Move to data directory"
   ]
  },
  {
   "cell_type": "code",
   "execution_count": 5,
   "metadata": {},
   "outputs": [
    {
     "data": {
      "text/plain": [
       "PosixPath('../data/LD2011_2014.txt')"
      ]
     },
     "execution_count": 5,
     "metadata": {},
     "output_type": "execute_result"
    }
   ],
   "source": [
    "file_name = \"LD2011_2014.txt\"\n",
    "src = Path(file_name)\n",
    "dst = Path(\"..\") / \"data\" / file_name\n",
    "\n",
    "shutil.move(src, dst)"
   ]
  },
  {
   "cell_type": "markdown",
   "metadata": {},
   "source": [
    "### Clean up"
   ]
  },
  {
   "cell_type": "code",
   "execution_count": 9,
   "metadata": {},
   "outputs": [],
   "source": [
    "!rm -r __MACOSX LD2011_2014.txt LD2011_2014.txt.zip"
   ]
  }
 ],
 "metadata": {
  "kernelspec": {
   "display_name": "azureml-tmp",
   "language": "python",
   "name": "python3"
  },
  "language_info": {
   "codemirror_mode": {
    "name": "ipython",
    "version": 3
   },
   "file_extension": ".py",
   "mimetype": "text/x-python",
   "name": "python",
   "nbconvert_exporter": "python",
   "pygments_lexer": "ipython3",
   "version": "3.9.16"
  },
  "orig_nbformat": 4
 },
 "nbformat": 4,
 "nbformat_minor": 2
}
